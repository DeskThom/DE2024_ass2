{
 "cells": [
  {
   "cell_type": "markdown",
   "id": "9f099012-c901-4ea1-8fea-83ed3386b669",
   "metadata": {
    "scrolled": true
   },
   "source": [
    "### SPARK SESSION AND DATA LOADING"
   ]
  },
  {
   "cell_type": "code",
   "execution_count": 1,
   "id": "cbc47736-c26c-40b8-91c3-1e4f028938e6",
   "metadata": {},
   "outputs": [
    {
     "name": "stdout",
     "output_type": "stream",
     "text": [
      "Number of rows: 4077352\n"
     ]
    }
   ],
   "source": [
    "#Apache Spark Libraries\n",
    "import pyspark\n",
    "from pyspark.sql import SparkSession\n",
    "from pyspark import SparkConf\n",
    "from pyspark.sql.functions import input_file_name, regexp_extract, regexp_replace, split, col\n",
    "\n",
    "## Spark session\n",
    "# Set configs\n",
    "sparkConf = SparkConf()\n",
    "sparkConf.setMaster(\"spark://spark-master:7077\")\n",
    "sparkConf.setAppName(\"batch_pipeline\")\n",
    "sparkConf.set(\"spark.driver.memory\", \"4g\")\n",
    "sparkConf.set(\"spark.executor.cores\", \"1\")\n",
    "sparkConf.set(\"spark.driver.cores\", \"1\")\n",
    "\n",
    "# Start spark session\n",
    "spark = SparkSession.builder.config(conf=sparkConf).getOrCreate()\n",
    "\n",
    "## Load\n",
    "# Setup hadoop fs configuration for schema gs://\n",
    "conf = spark.sparkContext._jsc.hadoopConfiguration()\n",
    "conf.set(\"fs.gs.impl\", \"com.google.cloud.hadoop.fs.gcs.GoogleHadoopFileSystem\")\n",
    "conf.set(\"fs.AbstractFileSystem.gs.impl\", \"com.google.cloud.hadoop.fs.gcs.GoogleHadoopFS\")\n",
    "\n",
    "# Get bucket path\n",
    "gcs_bucket_path = \"bucket_path\"  # Set  bucket path\n",
    "\n",
    "# Set file path\n",
    "csv_files_path = gcs_bucket_path + \"*.csv\"\n",
    "\n",
    "# Load Spark DF\n",
    "df = spark.read.csv(csv_files_path, header=True, inferSchema=True)\n",
    "\n",
    "print(f\"Number of rows: {df.count()}\")\n",
    "\n"
   ]
  },
  {
   "cell_type": "markdown",
   "id": "19d449bd-1062-4720-a994-805436da2447",
   "metadata": {},
   "source": [
    "### DATA EXTRACTION"
   ]
  },
  {
   "cell_type": "code",
   "execution_count": 2,
   "id": "834b9fd2-381f-4fde-8924-ac3ab21d3946",
   "metadata": {},
   "outputs": [
    {
     "name": "stdout",
     "output_type": "stream",
     "text": [
      "root\n",
      " |-- net_manager: string (nullable = true)\n",
      " |-- purchase_area: string (nullable = true)\n",
      " |-- street: string (nullable = true)\n",
      " |-- zipcode_from: string (nullable = true)\n",
      " |-- zipcode_to: string (nullable = true)\n",
      " |-- city: string (nullable = true)\n",
      " |-- num_connections: string (nullable = true)\n",
      " |-- delivery_perc: string (nullable = true)\n",
      " |-- perc_of_active_connections: string (nullable = true)\n",
      " |-- type_conn_perc: string (nullable = true)\n",
      " |-- type_of_connection: string (nullable = true)\n",
      " |-- annual_consume: string (nullable = true)\n",
      " |-- annual_consume_lowtarif_perc: string (nullable = true)\n",
      " |-- smartmeter_perc: string (nullable = true)\n",
      " |-- filename: string (nullable = false)\n",
      " |-- year: integer (nullable = true)\n",
      " |-- leverancier: string (nullable = true)\n",
      "\n",
      "+-----------+-------------+--------------------+------------+----------+---------+---------------+-------------+--------------------------+--------------+------------------+--------------+----------------------------+---------------+--------------------+----+-----------+\n",
      "|net_manager|purchase_area|              street|zipcode_from|zipcode_to|     city|num_connections|delivery_perc|perc_of_active_connections|type_conn_perc|type_of_connection|annual_consume|annual_consume_lowtarif_perc|smartmeter_perc|            filename|year|leverancier|\n",
      "+-----------+-------------+--------------------+------------+----------+---------+---------------+-------------+--------------------------+--------------+------------------+--------------+----------------------------+---------------+--------------------+----+-----------+\n",
      "| Liander NB|      LIANDER|De Ruyterkade Ste...|      1011AA|    1011AB|AMSTERDAM|           36.0|        100.0|                     38.89|         100.0|              3x25|       16589.0|                       44.44|           25.0|liander_electrici...|2019|    liander|\n",
      "| Liander NB|      LIANDER|       De Ruyterkade|      1011AC|    1011AC|AMSTERDAM|           39.0|        100.0|                     56.41|         100.0|              3x80|       22755.0|                       48.72|           35.9|liander_electrici...|2019|    liander|\n",
      "| Liander NB|      LIANDER|      Oosterdokskade|      1011AD|    1011AD|AMSTERDAM|           19.0|        100.0|                      5.26|         100.0|              3x25|        4026.0|                       47.37|            0.0|liander_electrici...|2019|    liander|\n",
      "| Liander NB|      LIANDER|   Oosterdokskade AB|      1011AE|    1011AE|AMSTERDAM|           19.0|        100.0|                     10.53|         100.0|              3x25|        3184.0|                       31.58|           5.26|liander_electrici...|2019|    liander|\n",
      "| Liander NB|      LIANDER|   Prins Hendrikkade|      1011AG|    1011AG|AMSTERDAM|           14.0|        100.0|                     92.86|         100.0|              1x35|       21826.0|                       57.14|          35.71|liander_electrici...|2019|    liander|\n",
      "| Liander NB|      LIANDER|   Prins Hendrikkade|      1011AH|    1011AH|AMSTERDAM|           21.0|        100.0|                     100.0|         100.0|              1x25|        4171.0|                       42.86|          33.33|liander_electrici...|2019|    liander|\n",
      "| Liander NB|      LIANDER|   Prins Hendrikkade|      1011AJ|    1011AJ|AMSTERDAM|           21.0|        100.0|                     90.48|         100.0|              1x35|        8263.0|                       52.38|          52.38|liander_electrici...|2019|    liander|\n",
      "| Liander NB|      LIANDER|   Prins Hendrikkade|      1011AK|    1011AK|AMSTERDAM|           13.0|        100.0|                     30.77|         100.0|              3x25|        9548.0|                       30.77|            0.0|liander_electrici...|2019|    liander|\n",
      "| Liander NB|      LIANDER|Houtkopersdwarsst...|      1011AL|    1011AM|AMSTERDAM|           16.0|        100.0|                     81.25|         100.0|              3x25|       12927.0|                       68.75|          56.25|liander_electrici...|2019|    liander|\n",
      "| Liander NB|      LIANDER|   Prins Hendrikkade|      1011AN|    1011AN|AMSTERDAM|           29.0|        100.0|                     75.86|         100.0|              1x35|        2684.0|                       55.17|          55.17|liander_electrici...|2019|    liander|\n",
      "| Liander NB|      LIANDER|   Prins Hendrikkade|      1011AP|    1011AP|AMSTERDAM|           20.0|        100.0|                      70.0|         100.0|              1x35|        5749.0|                        65.0|           55.0|liander_electrici...|2019|    liander|\n",
      "| Liander NB|      LIANDER|   Prins Hendrikkade|      1011AR|    1011AR|AMSTERDAM|           30.0|        100.0|                     86.67|         100.0|              1x35|        6859.0|                       53.33|          43.33|liander_electrici...|2019|    liander|\n",
      "| Liander NB|      LIANDER|   Prins Hendrikkade|      1011AS|    1011AS|AMSTERDAM|           11.0|        100.0|                     63.64|         100.0|              3x25|        4211.0|                       45.45|          27.27|liander_electrici...|2019|    liander|\n",
      "| Liander NB|      LIANDER|   Prins Hendrikkade|      1011AT|    1011AT|AMSTERDAM|           14.0|        100.0|                     92.86|         100.0|              3x25|        8053.0|                       28.57|          21.43|liander_electrici...|2019|    liander|\n",
      "| Liander NB|      LIANDER|   Prins Hendrikkade|      1011AV|    1011AV|AMSTERDAM|           18.0|        100.0|                     83.33|         100.0|              3x25|        3978.0|                       72.22|          66.67|liander_electrici...|2019|    liander|\n",
      "| Liander NB|      LIANDER|   Prins Hendrikkade|      1011AW|    1011AW|AMSTERDAM|           20.0|        100.0|                      95.0|         100.0|              1x35|        2476.0|                        50.0|           40.0|liander_electrici...|2019|    liander|\n",
      "| Liander NB|      LIANDER|Buiten Bantammers...|      1011AX|    1011AX|AMSTERDAM|           17.0|        100.0|                     82.35|         100.0|              3x25|        3708.0|                       82.35|          76.47|liander_electrici...|2019|    liander|\n",
      "| Liander NB|      LIANDER|     Schippersstraat|      1011AZ|    1011AZ|AMSTERDAM|           30.0|        100.0|                     76.67|         100.0|              1x35|        3131.0|                       100.0|          73.33|liander_electrici...|2019|    liander|\n",
      "| Liander NB|      LIANDER|     Schippersstraat|      1011BA|    1011BA|AMSTERDAM|           19.0|        94.74|                     36.84|         100.0|              3x25|        2049.0|                       57.89|          31.58|liander_electrici...|2019|    liander|\n",
      "| Liander NB|      LIANDER|     Schippersstraat|      1011BB|    1011BC|AMSTERDAM|           24.0|        95.83|                     95.83|         100.0|              1x35|        3474.0|                        62.5|           62.5|liander_electrici...|2019|    liander|\n",
      "+-----------+-------------+--------------------+------------+----------+---------+---------------+-------------+--------------------------+--------------+------------------+--------------+----------------------------+---------------+--------------------+----+-----------+\n",
      "only showing top 20 rows\n",
      "\n"
     ]
    }
   ],
   "source": [
    "## Extract the year from the filename (handles both YYYY and YYYY-MM-DD)\n",
    "# Add a column with the file name\n",
    "df = df.withColumn(\"filename\", regexp_replace(input_file_name(), r\"bucket_path\", \"\"))   # BUCKET PATH!!\n",
    "\n",
    "# Extract the year from the filename (handles both YYYY and YYYYMMDD patterns)\n",
    "\n",
    "df = df.withColumn(\n",
    "    \"year\",\n",
    "    regexp_extract(col(\"filename\"), r\".*_(?:\\d{2}\\d{2})?(\\d{4})\\.csv\", 1).cast(\"int\")\n",
    ")\n",
    "\n",
    "# Extract net manager and type\n",
    "df = df.withColumn('leverancier', split(col(\"filename\"), '_').getItem(0))\n",
    "\n",
    "\n",
    "# Check\n",
    "df.printSchema()\n",
    "df.show()"
   ]
  },
  {
   "cell_type": "markdown",
   "id": "ee156215-69e8-4471-812f-f8fb2694e2f3",
   "metadata": {},
   "source": [
    "Extract the aggregate consumption data from the dataset"
   ]
  },
  {
   "cell_type": "code",
   "execution_count": 3,
   "id": "9672c4b0-8dc6-4ae6-86a6-8718558d1a0b",
   "metadata": {},
   "outputs": [
    {
     "name": "stdout",
     "output_type": "stream",
     "text": [
      "+------------+----------+-------------+----+-----------+------------------+---------------------+-------------------+\n",
      "|zipcode_from|zipcode_to|         city|year|leverancier|annual_consumption|total_num_connections|average_consumption|\n",
      "+------------+----------+-------------+----+-----------+------------------+---------------------+-------------------+\n",
      "|      5631BL|    5631BM|    EINDHOVEN|2013|    endinet|          429931.2|                 10.0|           42993.12|\n",
      "|      5631BL|    5631BM|    EINDHOVEN|2012|    endinet|          429881.8|                 10.0|           42988.18|\n",
      "|      5631BL|    5631BM|    EINDHOVEN|2011|    endinet|          428277.4|                 10.0|           42827.74|\n",
      "|      5622PG|    5622PH|    EINDHOVEN|2012|    endinet|         290233.53|                 17.0|           17072.56|\n",
      "|      5611KS|    5611KT|    EINDHOVEN|2012|    endinet|          157011.4|                 10.0|           15701.14|\n",
      "|      5633AC|    5633AE|    EINDHOVEN|2013|    endinet|           70547.0|                 10.0|             7054.7|\n",
      "|      5633AD|    5633AD|    EINDHOVEN|2015|    endinet|           67911.0|                 10.0|             6791.1|\n",
      "|      5145PX|    5145RL|     WAALWIJK|2018|     enexis|           65807.5|                 10.0|            6580.75|\n",
      "|      5753SC|    5753SC|       DEURNE|2020|     enexis|           65348.8|                 10.0|            6534.88|\n",
      "|      5753SC|    5753SC|       DEURNE|2019|     enexis|           63938.4|                 10.0|            6393.84|\n",
      "|      2554GJ|    2554GJ|'S-GRAVENHAGE|2019|     stedin|           75588.0|                 12.0|             6299.0|\n",
      "|      3897LT|    3897LT|     ZEEWOLDE|2015|    liander|           61684.0|                 10.0|             6168.4|\n",
      "|      5633AD|    5633AE|    EINDHOVEN|2019|     enexis|           66823.0|                 11.0|            6074.82|\n",
      "|      5753SC|    5753SC|       DEURNE|2018|     enexis|           60405.6|                 10.0|            6040.56|\n",
      "|      3897LT|    3897LT|     ZEEWOLDE|2014|    liander|           59266.0|                 10.0|             5926.6|\n",
      "|      3897LT|    3897LT|     ZEEWOLDE|2016|    liander|           59108.0|                 10.0|             5910.8|\n",
      "|      3555HX|    3555HX|      UTRECHT|2018|     stedin|          140398.0|                 24.0|            5849.92|\n",
      "|      5633AD|    5633AE|    EINDHOVEN|2018|     enexis|          64134.82|                 11.0|            5830.44|\n",
      "|      6631KB|    6631KB|      HORSSEN|2018|    liander|           56628.0|                 10.0|             5662.8|\n",
      "|      7411BS|    7411BS|     DEVENTER|2020|     enexis|          62240.73|                 11.0|            5658.25|\n",
      "+------------+----------+-------------+----+-----------+------------------+---------------------+-------------------+\n",
      "only showing top 20 rows\n",
      "\n"
     ]
    }
   ],
   "source": [
    "from pyspark.sql.functions import sum as _sum, col, round\n",
    "\n",
    "# Perform group by and aggregate\n",
    "aggregated_df = df.groupBy(\"zipcode_from\", \"zipcode_to\", \"city\",\"year\",\"leverancier\").agg(\n",
    "    round(_sum(\"annual_consume\"), 2).alias(\"annual_consumption\"),\n",
    "    _sum(\"num_connections\").alias(\"total_num_connections\")\n",
    ")\n",
    "\n",
    "# Calculate average consumption per connection\n",
    "aggregated_df = aggregated_df.withColumn(\n",
    "    \"average_consumption\",\n",
    "    round(col(\"annual_consumption\") / col(\"total_num_connections\"), 2)\n",
    ")\n",
    "\n",
    "# Sort by average consumption in descending order\n",
    "aggregated_df = aggregated_df.orderBy(col(\"average_consumption\").desc())\n",
    "\n",
    "# Show the result\n",
    "aggregated_df.show()"
   ]
  },
  {
   "cell_type": "code",
   "execution_count": 4,
   "id": "645b4828-e02b-4d09-ad6a-f9a8b5c9d5ca",
   "metadata": {},
   "outputs": [
    {
     "name": "stdout",
     "output_type": "stream",
     "text": [
      "Number of rows: 3809752\n"
     ]
    }
   ],
   "source": [
    "# Remove any outliers from the dataset\n",
    "from pyspark.sql.functions import col, expr, lit, percentile_approx\n",
    "\n",
    "# Step 1: Calculate Q1 and Q3\n",
    "percentiles = aggregated_df.select(\n",
    "    percentile_approx(col(\"average_consumption\"), 0.25, lit(100)).alias(\"Q1\"),\n",
    "    percentile_approx(col(\"average_consumption\"), 0.75, lit(100)).alias(\"Q3\")\n",
    ").collect()[0]\n",
    "\n",
    "Q1, Q3 = percentiles.Q1, percentiles.Q3\n",
    "IQR = Q3 - Q1\n",
    "\n",
    "# Step 2: Calculate bounds\n",
    "lower_bound = Q1 - 1.5 * IQR\n",
    "upper_bound = Q3 + 1.5 * IQR\n",
    "\n",
    "# Step 3: Filter out outliers\n",
    "aggregated_df = aggregated_df.filter(\n",
    "    (col(\"average_consumption\") >= lower_bound) & (col(\"average_consumption\") <= upper_bound)\n",
    ")\n",
    "\n",
    "# Show the result\n",
    "print(f\"Number of rows: {aggregated_df.count()}\")\n"
   ]
  },
  {
   "cell_type": "markdown",
   "id": "069eab07-93f4-47f6-b378-c4e25259ee47",
   "metadata": {},
   "source": [
    "### QUERIES"
   ]
  },
  {
   "cell_type": "markdown",
   "id": "01a68b8f-f744-4b58-b6c5-1e835109d860",
   "metadata": {},
   "source": [
    "What is the energy consumption each year?"
   ]
  },
  {
   "cell_type": "code",
   "execution_count": 5,
   "id": "8105987a-faad-4c65-85ee-8d4d679b0cb7",
   "metadata": {},
   "outputs": [
    {
     "name": "stdout",
     "output_type": "stream",
     "text": [
      "+----+------------------+\n",
      "|year|yearly_consumption|\n",
      "+----+------------------+\n",
      "|2009|      7.44615414E8|\n",
      "|2010|     1.280313545E9|\n",
      "|2011|   1.30864941953E9|\n",
      "|2012|   1.32543587561E9|\n",
      "|2013|   1.37647144216E9|\n",
      "|2014|     1.363139194E9|\n",
      "|2015|     1.331306962E9|\n",
      "|2016|     1.322117553E9|\n",
      "|2017|     1.311258097E9|\n",
      "|2018|   1.18936275021E9|\n",
      "|2019|   1.16539894699E9|\n",
      "|2020|   1.12582158877E9|\n",
      "+----+------------------+\n",
      "\n"
     ]
    }
   ],
   "source": [
    "from pyspark.sql.functions import sum as _sum, col, round\n",
    "\n",
    "# Sum annual consumption, grouped by year\n",
    "yearly_consumption = aggregated_df.groupBy(\"year\").agg(\n",
    "    _sum(\"annual_consumption\").alias(\"yearly_consumption\")\n",
    ")\n",
    "\n",
    "# Cast to decimal and round\n",
    "yearly_consumption = yearly_consumption.withColumn(\n",
    "    \"yearly_consumption\",\n",
    "    round(col(\"yearly_consumption\"), 2)\n",
    ")\n",
    "\n",
    "yearly_consumption = yearly_consumption.orderBy(col(\"year\").asc())\n",
    "\n",
    "yearly_consumption.show()"
   ]
  },
  {
   "cell_type": "markdown",
   "id": "e3ffaf0a-14fc-4cfe-bdae-631c3c9ac5f4",
   "metadata": {},
   "source": [
    "How much energy do specific zipcodes use yearly?"
   ]
  },
  {
   "cell_type": "code",
   "execution_count": 6,
   "id": "0d1be080-4bab-4f20-93e5-7ae2770afa74",
   "metadata": {},
   "outputs": [
    {
     "name": "stdout",
     "output_type": "stream",
     "text": [
      "+------------+----------+----+-----------------+\n",
      "|zipcode_from|zipcode_to|year|total_consumption|\n",
      "+------------+----------+----+-----------------+\n",
      "|      2622BV|    2622BV|2013|           4598.0|\n",
      "|      1185TW|    1185TW|2014|           7353.0|\n",
      "|      8463TK|    8463VA|2020|          11948.0|\n",
      "|      4463AK|    4463AL|2018|           6431.0|\n",
      "|      9285WN|    9285WN|2011|           5053.0|\n",
      "|      8121ER|    8121ER|2020|           5050.0|\n",
      "|      3911MG|    3911MG|2012|           9171.0|\n",
      "|      2665RW|    2665RW|2010|           5041.0|\n",
      "|      1435GV|    1435GV|2014|           5037.0|\n",
      "|      6005AD|    6005AD|2010|           7323.0|\n",
      "|      3401NH|    3401NJ|2019|          10069.0|\n",
      "|      4811TP|    4811TP|2019|           9153.1|\n",
      "|      6645AJ|    6645AJ|2013|           8695.0|\n",
      "|      1017CE|    1017CE|2012|          10061.0|\n",
      "|      4454PR|    4454PS|2015|           5935.0|\n",
      "|      2242SZ|    2242SZ|2009|           5476.0|\n",
      "|      4116DC|    4116DC|2011|           4562.0|\n",
      "|      8181ME|    8181ME|2012|           4560.0|\n",
      "|      1251GN|    1251GN|2014|           7746.0|\n",
      "|      2011VP|    2011VR|2009|          11845.0|\n",
      "+------------+----------+----+-----------------+\n",
      "only showing top 20 rows\n",
      "\n"
     ]
    }
   ],
   "source": [
    "from pyspark.sql.functions import sum as _sum, col, round\n",
    "\n",
    "# Group by supplier\n",
    "zipcode_total = aggregated_df.groupBy(\"zipcode_from\", \"zipcode_to\",\"year\").agg(\n",
    "    _sum(\"annual_consumption\").alias(\"total_consumption\")\n",
    ")\n",
    "\n",
    "zipcode_total.show()"
   ]
  },
  {
   "cell_type": "markdown",
   "id": "1496849e-8990-4b59-876f-770f9da4fd6a",
   "metadata": {},
   "source": [
    "How much energy is supplier by suppliers on a yearly basis?"
   ]
  },
  {
   "cell_type": "code",
   "execution_count": 8,
   "id": "3cf552ae-b925-4f86-9079-a30008bcf606",
   "metadata": {},
   "outputs": [
    {
     "name": "stdout",
     "output_type": "stream",
     "text": [
      "+------------------+----+--------------------+\n",
      "|       leverancier|year|   total_consumption|\n",
      "+------------------+----+--------------------+\n",
      "|             rendo|2013|           5036136.0|\n",
      "|            stedin|2020|2.5886791611999595E8|\n",
      "|    westland-infra|2019|         1.4097802E7|\n",
      "|    westland-infra|2018|         1.2189676E7|\n",
      "|            enexis|2013|        5.53952919E8|\n",
      "|           liander|2014|        4.74047378E8|\n",
      "|           liander|2009|         4.6740882E8|\n",
      "|           liander|2016|        4.73964545E8|\n",
      "|            enexis|2016|        5.04151692E8|\n",
      "|enduriselectricity|2013|         3.1346585E7|\n",
      "|           liander|2011|        4.77433164E8|\n",
      "|            enexis|2020| 3.834581936499889E8|\n",
      "|             coteq|2019|           8115602.0|\n",
      "|            stedin|2014|        2.80646724E8|\n",
      "|           liander|2019|        4.62511608E8|\n",
      "|            stedin|2009|        2.77206594E8|\n",
      "|             rendo|2018|           4589365.0|\n",
      "|            stedin|2016|        2.73919385E8|\n",
      "|            enexis|2018| 3.950671882099929E8|\n",
      "|    westland-infra|2020|         1.1459118E7|\n",
      "+------------------+----+--------------------+\n",
      "only showing top 20 rows\n",
      "\n"
     ]
    }
   ],
   "source": [
    "from pyspark.sql.functions import sum as _sum, col, round\n",
    "\n",
    "# Group by supplier\n",
    "supplier_total = aggregated_df.groupBy(\"leverancier\", \"year\").agg(\n",
    "    _sum(\"annual_consumption\").alias(\"total_consumption\")\n",
    ")\n",
    "\n",
    "supplier_total.show()"
   ]
  },
  {
   "cell_type": "markdown",
   "id": "e718e26b-a63b-42da-8c4d-80fda6aacc71",
   "metadata": {},
   "source": [
    "### DATA EXPORT"
   ]
  },
  {
   "cell_type": "code",
   "execution_count": 9,
   "id": "094021bb-fd5e-4bec-be30-3ced43eba2e0",
   "metadata": {},
   "outputs": [],
   "source": [
    "# Save table to BQ\n",
    "# Use the Cloud Storage bucket for temporary BigQuery export data the connector uses.\n",
    "bucket = \"your_temp_bucket\"\n",
    "spark.conf.set('temporaryGcsBucket', bucket)\n",
    "\n",
    "# Energy consumption per year\n",
    "yearly_consumption.write.format('bigquery') \\\n",
    "  .option('table', '') \\ # Set table name\n",
    "  .mode(\"overwrite\") \\\n",
    "  .save()\n",
    "\n",
    "\n",
    "# Energy consumption per zip code\n",
    "zipcode_total.write.format('bigquery') \\\n",
    "  .option('table', '') \\# Set table name\n",
    "  .mode(\"overwrite\") \\\n",
    "  .save()\n",
    "\n",
    "\n",
    "# Energy consumption per supplier\n",
    "supplier_total.write.format('bigquery') \\\n",
    "  .option('table', '') \\# Set table name\n",
    "  .mode(\"overwrite\") \\\n",
    "  .save()\n"
   ]
  },
  {
   "cell_type": "code",
   "execution_count": 10,
   "id": "d4dc3106-dfb6-479d-b3fe-a26411a82b19",
   "metadata": {},
   "outputs": [],
   "source": [
    "# Stop session\n",
    "spark.stop()"
   ]
  }
 ],
 "metadata": {
  "kernelspec": {
   "display_name": "Python 3 (ipykernel)",
   "language": "python",
   "name": "python3"
  },
  "language_info": {
   "codemirror_mode": {
    "name": "ipython",
    "version": 3
   },
   "file_extension": ".py",
   "mimetype": "text/x-python",
   "name": "python",
   "nbconvert_exporter": "python",
   "pygments_lexer": "ipython3",
   "version": "3.11.6"
  }
 },
 "nbformat": 4,
 "nbformat_minor": 5
}
