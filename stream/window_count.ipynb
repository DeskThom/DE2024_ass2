{
 "cells": [
  {
   "cell_type": "code",
   "execution_count": null,
   "metadata": {},
   "outputs": [],
   "source": [
    "from pyspark import SparkConf\n",
    "from pyspark.sql import SparkSession\n",
    "from pyspark.sql.functions import window, col\n",
    "from pyspark.sql.types import StructType, StructField, LongType, StringType, DoubleType, ShortType, DateType\n",
    "from time import sleep\n",
    "\n",
    "# Set up Spark session\n",
    "sparkConf = SparkConf()\n",
    "sparkConf.setMaster(\"spark://spark-master:7077\")\n",
    "sparkConf.setAppName(\"count_window\")\n",
    "sparkConf.set(\"spark.driver.memory\", \"2g\")\n",
    "sparkConf.set(\"spark.executor.cores\", \"1\")\n",
    "sparkConf.set(\"spark.driver.cores\", \"1\")\n",
    "\n",
    "# Create the spark session\n",
    "spark = SparkSession.builder.config(conf=sparkConf).getOrCreate()\n",
    "\n",
    "####################\n",
    "# Get data\n",
    "## Create schema\n",
    "dataSchema = StructType(\n",
    "    [StructField(\"city\", StringType(), True),\n",
    "     StructField(\"datetime\", DateType(), True)\n",
    "])\n",
    "\n",
    "## Read from a source - File: https://raw.githubusercontent.com/DeskThom/DE2024_assignment2/refs/heads/main/stream/data/outage_data_20241127_121735.json\n",
    "sdf = spark.readStream.schema(dataSchema).option(\"maxFilesPerTrigger\", 1) \\\n",
    "        .json(\"/home/jovyan/data/stream-data\")\n",
    "\n",
    "sdf.printSchema()\n",
    "\n",
    "##################\n",
    "\n",
    "\n",
    "sdf.groupBy(window(col(\"datetime\"), \"1 day\"), \"city\").count() \\\n",
    "        .writeStream \\\n",
    "        .queryName(\"outages_per_window\") \\\n",
    "        .format(\"memory\") \\\n",
    "        .outputMode(\"complete\") \\\n",
    "        .start()\n",
    "\n",
    "for x in range(10):\n",
    "    spark.sql(\"SELECT * FROM outages_per_window\").show()\n",
    "    sleep(10)\n"
   ]
  }
 ],
 "metadata": {
  "language_info": {
   "name": "python"
  }
 },
 "nbformat": 4,
 "nbformat_minor": 2
}
